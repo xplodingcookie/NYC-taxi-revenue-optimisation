{
 "cells": [
  {
   "cell_type": "markdown",
   "metadata": {},
   "source": [
    "### Preprocessing of traffic data\n"
   ]
  },
  {
   "cell_type": "code",
   "execution_count": 3,
   "metadata": {},
   "outputs": [],
   "source": [
    "import os\n",
    "import sys\n",
    "sys.path.append(\"../\")\n",
    "from scripts.traffic_volume_scrape import get_traffic_data\n",
    "from pyspark.sql import SparkSession\n",
    "from pyspark.sql.functions import lit, stddev, mean, col, unix_timestamp, abs, round, to_date, count, concat, sum, lpad, weekofyear, avg, when\n",
    "from pyspark.sql import Window\n",
    "from pyspark.sql.types import LongType, IntegerType, DoubleType, StringType\n",
    "import geopandas as gpd\n",
    "import folium\n",
    "import numpy as np"
   ]
  },
  {
   "cell_type": "markdown",
   "metadata": {},
   "source": [
    "Scrape the traffic data from Open NYC database"
   ]
  },
  {
   "cell_type": "code",
   "execution_count": 4,
   "metadata": {},
   "outputs": [
    {
     "name": "stdout",
     "output_type": "stream",
     "text": [
      "https://data.cityofnewyork.us/resource/7ym2-wayt.csv?$limit=1673725\n",
      "../data/landing/traffic_data/traffic_data.csv\n",
      "Completed traffic data download\n",
      "https://data.cityofnewyork.us/resource/7ym2-wayt.csv?$limit=1673725\n",
      "../data/raw/traffic_data/traffic_data.csv\n",
      "Completed traffic data download\n"
     ]
    }
   ],
   "source": [
    "get_traffic_data()"
   ]
  },
  {
   "cell_type": "code",
   "execution_count": 5,
   "metadata": {},
   "outputs": [
    {
     "name": "stderr",
     "output_type": "stream",
     "text": [
      "your 131072x1 screen size is bogus. expect trouble\n",
      "24/08/25 13:55:02 WARN Utils: Your hostname, DESKTOP-N0VCA8U resolves to a loopback address: 127.0.1.1; using 172.23.106.248 instead (on interface eth0)\n",
      "24/08/25 13:55:02 WARN Utils: Set SPARK_LOCAL_IP if you need to bind to another address\n",
      "Setting default log level to \"WARN\".\n",
      "To adjust logging level use sc.setLogLevel(newLevel). For SparkR, use setLogLevel(newLevel).\n",
      "24/08/25 13:55:04 WARN NativeCodeLoader: Unable to load native-hadoop library for your platform... using builtin-java classes where applicable\n",
      "24/08/25 13:55:06 WARN Utils: Service 'SparkUI' could not bind on port 4040. Attempting port 4041.\n",
      "24/08/25 13:55:06 WARN Utils: Service 'SparkUI' could not bind on port 4041. Attempting port 4042.\n",
      "[Stage 1:=============================>                             (2 + 2) / 4]\r"
     ]
    },
    {
     "name": "stdout",
     "output_type": "stream",
     "text": [
      "The shape of the traffic dataframe: 1673725 x 14\n"
     ]
    },
    {
     "name": "stderr",
     "output_type": "stream",
     "text": [
      "                                                                                \r"
     ]
    }
   ],
   "source": [
    "# create a spark session (which will run spark jobs)\n",
    "spark = (\n",
    "    SparkSession.builder.appName(\"Preprocess Traffic Data\")\n",
    "    .config(\"spark.sql.repl.eagerEval.enabled\", True) \n",
    "    .config(\"spark.sql.parquet.cacheMetadata\", \"true\")\n",
    "    .config(\"spark.sql.session.timeZone\", \"Etc/UTC\")\n",
    "    .getOrCreate()\n",
    ")\n",
    "\n",
    "weather_sdf_list = []\n",
    "# read the PSV file into a DataFrame\n",
    "traffic_df = spark.read.format(\"csv\") \\\n",
    "    .option(\"header\", \"true\") \\\n",
    "    .load(f\"../data/raw/traffic_data/traffic_data.csv\")\n",
    "\n",
    "num_instances, num_features = traffic_df.count(), len(traffic_df.columns)\n",
    "print(f\"The shape of the traffic dataframe: {num_instances} x {num_features}\")"
   ]
  },
  {
   "cell_type": "markdown",
   "metadata": {},
   "source": [
    "Feature engineer date"
   ]
  },
  {
   "cell_type": "code",
   "execution_count": 6,
   "metadata": {},
   "outputs": [
    {
     "name": "stderr",
     "output_type": "stream",
     "text": [
      "[Stage 4:>                                                          (0 + 4) / 4]\r"
     ]
    },
    {
     "name": "stdout",
     "output_type": "stream",
     "text": [
      "The shape of the traffic dataframe: 1673725 x 15\n"
     ]
    },
    {
     "name": "stderr",
     "output_type": "stream",
     "text": [
      "                                                                                \r"
     ]
    }
   ],
   "source": [
    "traffic_df = traffic_df.withColumn(\n",
    "    \"date\",\n",
    "    to_date(\n",
    "        concat(\n",
    "            col(\"yr\"), \n",
    "            lit(\"-\"), \n",
    "            lpad(col(\"m\").cast(\"string\"), 2, '0'),\n",
    "            lit(\"-\"), \n",
    "            lpad(col(\"d\").cast(\"string\"), 2, '0')\n",
    "        ), \n",
    "        \"yyyy-MM-dd\"\n",
    "    )\n",
    ")\n",
    "num_instances, num_features = traffic_df.count(), len(traffic_df.columns)\n",
    "print(f\"The shape of the traffic dataframe: {num_instances} x {num_features}\")"
   ]
  },
  {
   "cell_type": "code",
   "execution_count": 7,
   "metadata": {},
   "outputs": [
    {
     "name": "stderr",
     "output_type": "stream",
     "text": [
      "[Stage 7:>                                                          (0 + 4) / 4]\r"
     ]
    },
    {
     "name": "stdout",
     "output_type": "stream",
     "text": [
      "The shape of the traffic dataframe: 32544 x 15\n"
     ]
    },
    {
     "name": "stderr",
     "output_type": "stream",
     "text": [
      "                                                                                \r"
     ]
    }
   ],
   "source": [
    "# define the start and end dates\n",
    "start_date = \"2022-10-01\"\n",
    "end_date = \"2023-03-31\"\n",
    "\n",
    "# filter df to only include the specified date range\n",
    "traffic_df = traffic_df.filter(\n",
    "    (col(\"date\") >= start_date) & (col(\"date\") <= end_date)\n",
    ")\n",
    "\n",
    "traffic_df = traffic_df.orderBy(\"date\")\n",
    "\n",
    "num_instances, num_features = traffic_df.count(), len(traffic_df.columns)\n",
    "print(f\"The shape of the traffic dataframe: {num_instances} x {num_features}\")"
   ]
  },
  {
   "cell_type": "markdown",
   "metadata": {},
   "source": [
    "Filter outliers"
   ]
  },
  {
   "cell_type": "code",
   "execution_count": 8,
   "metadata": {},
   "outputs": [
    {
     "name": "stderr",
     "output_type": "stream",
     "text": [
      "[Stage 20:===========================================>              (3 + 1) / 4]\r"
     ]
    },
    {
     "name": "stdout",
     "output_type": "stream",
     "text": [
      "The shape of the traffic dataframe: 32305 x 15\n"
     ]
    },
    {
     "name": "stderr",
     "output_type": "stream",
     "text": [
      "                                                                                \r"
     ]
    }
   ],
   "source": [
    "stats = traffic_df.agg(\n",
    "    mean(\"vol\").alias(\"mean\"),\n",
    "    stddev(\"vol\").alias(\"stddev\")\n",
    ").collect()[0]\n",
    "\n",
    "column_mean = stats[\"mean\"]\n",
    "column_stddev = stats[\"stddev\"]\n",
    "\n",
    "bound_sd = np.sqrt(2*np.log(traffic_df.count()))\n",
    "\n",
    "traffic_df = traffic_df.filter(\n",
    "    (col(\"vol\") >= column_mean - bound_sd * column_stddev) &\n",
    "    (col(\"vol\") <= column_mean + bound_sd * column_stddev)\n",
    ")\n",
    "\n",
    "num_instances, num_features = traffic_df.count(), len(traffic_df.columns)\n",
    "print(f\"The shape of the traffic dataframe: {num_instances} x {num_features}\")"
   ]
  },
  {
   "cell_type": "markdown",
   "metadata": {},
   "source": [
    "Attempt to aggregate into daily representation"
   ]
  },
  {
   "cell_type": "code",
   "execution_count": 12,
   "metadata": {},
   "outputs": [
    {
     "name": "stderr",
     "output_type": "stream",
     "text": [
      "                                                                                \r"
     ]
    },
    {
     "name": "stdout",
     "output_type": "stream",
     "text": [
      "The shape of the traffic dataframe: 125 x 3\n"
     ]
    },
    {
     "name": "stderr",
     "output_type": "stream",
     "text": [
      "                                                                                \r"
     ]
    },
    {
     "data": {
      "text/html": [
       "<table border='1'>\n",
       "<tr><th>boro</th><th>date</th><th>total_vol</th></tr>\n",
       "<tr><td>Brooklyn</td><td>2022-10-12</td><td>9706.0</td></tr>\n",
       "<tr><td>Brooklyn</td><td>2022-10-13</td><td>7211.0</td></tr>\n",
       "<tr><td>Brooklyn</td><td>2022-10-14</td><td>7663.0</td></tr>\n",
       "<tr><td>Brooklyn</td><td>2022-10-15</td><td>7031.0</td></tr>\n",
       "<tr><td>Brooklyn</td><td>2022-10-16</td><td>6456.0</td></tr>\n",
       "<tr><td>Brooklyn</td><td>2022-10-17</td><td>31677.0</td></tr>\n",
       "<tr><td>Manhattan</td><td>2022-10-18</td><td>126877.0</td></tr>\n",
       "<tr><td>Brooklyn</td><td>2022-10-18</td><td>1881.0</td></tr>\n",
       "<tr><td>Brooklyn</td><td>2022-10-19</td><td>1938.0</td></tr>\n",
       "<tr><td>Manhattan</td><td>2022-10-19</td><td>118928.0</td></tr>\n",
       "<tr><td>Brooklyn</td><td>2022-10-20</td><td>1961.0</td></tr>\n",
       "<tr><td>Manhattan</td><td>2022-10-20</td><td>110919.0</td></tr>\n",
       "<tr><td>Brooklyn</td><td>2022-10-21</td><td>35934.0</td></tr>\n",
       "<tr><td>Manhattan</td><td>2022-10-22</td><td>60557.0</td></tr>\n",
       "<tr><td>Manhattan</td><td>2022-10-23</td><td>57993.0</td></tr>\n",
       "<tr><td>Manhattan</td><td>2022-10-24</td><td>60876.0</td></tr>\n",
       "<tr><td>Manhattan</td><td>2022-10-25</td><td>136742.0</td></tr>\n",
       "<tr><td>Manhattan</td><td>2022-10-26</td><td>141119.0</td></tr>\n",
       "<tr><td>Manhattan</td><td>2022-10-27</td><td>138998.0</td></tr>\n",
       "<tr><td>Manhattan</td><td>2022-10-28</td><td>64227.0</td></tr>\n",
       "</table>\n",
       "only showing top 20 rows\n"
      ],
      "text/plain": [
       "+---------+----------+---------+\n",
       "|     boro|      date|total_vol|\n",
       "+---------+----------+---------+\n",
       "| Brooklyn|2022-10-12|   9706.0|\n",
       "| Brooklyn|2022-10-13|   7211.0|\n",
       "| Brooklyn|2022-10-14|   7663.0|\n",
       "| Brooklyn|2022-10-15|   7031.0|\n",
       "| Brooklyn|2022-10-16|   6456.0|\n",
       "| Brooklyn|2022-10-17|  31677.0|\n",
       "|Manhattan|2022-10-18| 126877.0|\n",
       "| Brooklyn|2022-10-18|   1881.0|\n",
       "| Brooklyn|2022-10-19|   1938.0|\n",
       "|Manhattan|2022-10-19| 118928.0|\n",
       "| Brooklyn|2022-10-20|   1961.0|\n",
       "|Manhattan|2022-10-20| 110919.0|\n",
       "| Brooklyn|2022-10-21|  35934.0|\n",
       "|Manhattan|2022-10-22|  60557.0|\n",
       "|Manhattan|2022-10-23|  57993.0|\n",
       "|Manhattan|2022-10-24|  60876.0|\n",
       "|Manhattan|2022-10-25| 136742.0|\n",
       "|Manhattan|2022-10-26| 141119.0|\n",
       "|Manhattan|2022-10-27| 138998.0|\n",
       "|Manhattan|2022-10-28|  64227.0|\n",
       "+---------+----------+---------+\n",
       "only showing top 20 rows"
      ]
     },
     "execution_count": 12,
     "metadata": {},
     "output_type": "execute_result"
    }
   ],
   "source": [
    "traffic_by_boro_df = (traffic_df\n",
    "          .groupBy(\"boro\", \"date\")  # Group by borough, year, month, and day\n",
    "          .agg(sum(\"vol\").alias(\"total_vol\"))  # Aggregate to sum up the volume\n",
    "         )\n",
    "\n",
    "traffic_by_boro_df = traffic_by_boro_df.orderBy('date')\n",
    "\n",
    "num_instances, num_features = traffic_by_boro_df.count(), len(traffic_by_boro_df.columns)\n",
    "print(f\"The shape of the traffic dataframe: {num_instances} x {num_features}\")"
   ]
  },
  {
   "cell_type": "code",
   "execution_count": 10,
   "metadata": {},
   "outputs": [
    {
     "name": "stderr",
     "output_type": "stream",
     "text": [
      "                                                                                \r"
     ]
    }
   ],
   "source": [
    "# Export to data/curated\n",
    "traffic_by_boro_df.write.mode('overwrite').parquet('../data/curated/boro_traffic_data.parquet')"
   ]
  }
 ],
 "metadata": {
  "kernelspec": {
   "display_name": "Python 3",
   "language": "python",
   "name": "python3"
  },
  "language_info": {
   "codemirror_mode": {
    "name": "ipython",
    "version": 3
   },
   "file_extension": ".py",
   "mimetype": "text/x-python",
   "name": "python",
   "nbconvert_exporter": "python",
   "pygments_lexer": "ipython3",
   "version": "3.10.12"
  }
 },
 "nbformat": 4,
 "nbformat_minor": 2
}
